{
 "cells": [
  {
   "cell_type": "markdown",
   "metadata": {},
   "source": [
    "<center>\n",
    "    <img src=\"https://cf-courses-data.s3.us.cloud-object-storage.appdomain.cloud/IBMDeveloperSkillsNetwork-DS0105EN-SkillsNetwork/labs/Module2/images/SN_web_lightmode.png\" width=\"300\" alt=\"cognitiveclass.ai logo\">\n",
    "</center>\n"
   ]
  },
  {
   "cell_type": "markdown",
   "metadata": {},
   "source": [
    "#### Add your code below following the instructions given in the course\n"
   ]
  },
  {
   "cell_type": "markdown",
   "metadata": {},
   "source": [
    "Jupyter_Notebook"
   ]
  },
  {
   "cell_type": "markdown",
   "metadata": {},
   "source": [
    "Introduction for my jupyter notebook assignment"
   ]
  },
  {
   "cell_type": "markdown",
   "metadata": {
    "tags": []
   },
   "source": [
    "- Python\n",
    "- R\n",
    "- Java\n",
    "- Julia\n",
    "- Scala"
   ]
  },
  {
   "cell_type": "markdown",
   "metadata": {},
   "source": [
    "- pandas\n",
    "- numpy\n",
    "- matplotlib\n",
    "- Scikit-learn\n",
    "- TensorFlow"
   ]
  },
  {
   "cell_type": "markdown",
   "metadata": {},
   "source": [
    "- Jupyter Notebook\n",
    "- RStudio\n",
    "- Tableau\n",
    "- KNIME\n",
    "- Apache Spark\n"
   ]
  },
  {
   "cell_type": "markdown",
   "metadata": {},
   "source": [
    "## Arithmetic Expression Examples\n",
    "\n",
    "```python\n",
    "result = 5 + 3\n",
    "# The result will be 8\n",
    "\n",
    "result = 10 - 4\n",
    "# The result will be 6\n",
    "\n",
    "result = 15 / 3\n",
    "# The result will be 5.0\n",
    "\n",
    "result = 17 % 4\n",
    "# The result will be 1\n"
   ]
  },
  {
   "cell_type": "code",
   "execution_count": 3,
   "metadata": {
    "tags": []
   },
   "outputs": [
    {
     "name": "stdout",
     "output_type": "stream",
     "text": [
      "The result of 5 * 3 is: 15\n",
      "The result of 10 + 7 is: 17\n"
     ]
    }
   ],
   "source": [
    "# Multiplication\n",
    "num1 = 5\n",
    "num2 = 3\n",
    "result_multiply = num1 * num2\n",
    "print(f\"The result of {num1} * {num2} is: {result_multiply}\")\n",
    "\n",
    "# Addition\n",
    "num3 = 10\n",
    "num4 = 7\n",
    "result_addition = num3 + num4\n",
    "print(f\"The result of {num3} + {num4} is: {result_addition}\")\n"
   ]
  },
  {
   "cell_type": "code",
   "execution_count": 5,
   "metadata": {
    "tags": []
   },
   "outputs": [
    {
     "name": "stdout",
     "output_type": "stream",
     "text": [
      "2.0\n"
     ]
    }
   ],
   "source": [
    "mins = 120\n",
    "hours = mins/60\n",
    "print(hours)"
   ]
  },
  {
   "cell_type": "markdown",
   "metadata": {},
   "source": [
    "- Exercise 2 - Create a markdown cell with the title of the notebook. (1 pt)\n",
    "\n",
    "- Exercise 3 - Create a markdown cell for an introduction. (1 pt)\n",
    "\n",
    "- Exercise 4 - Create a markdown cell to list data science languages. (3 pts)\n",
    "\n",
    "- Exercise 5 - Create a markdown cell to list data science libraries. (3 pts)\n",
    "\n",
    "- Exercise 6 - Create a markdown cell with a table of Data Science tools. (3 pts)\n",
    "\n",
    "- Exercise 7 - Create a markdown cell introducing arithmetic expression examples. (1 pt)\n",
    "\n",
    "- Exercise 8 - Create a code cell to multiply and add numbers. (2 pts)\n",
    "\n",
    "- Exercise 9 - Create a code cell to convert minutes to hours. (2 pts)\n",
    "\n",
    "- Exercise 10 -Insert a markdown cell to list Objectives. (3 pts)\n",
    "\n",
    "- Exercise 11 - Create a markdown cell to indicate the Author’s name. (2 pts)\n",
    "\n",
    "- Exercise 12 - Share your notebook through GitHub (3 pts)\n",
    "\n",
    "- Exercise 13 - Take a screenshot of the first page of the notebook. (1 pt"
   ]
  },
  {
   "cell_type": "markdown",
   "metadata": {},
   "source": [
    "## Author\n",
    "\n",
    "#### Leith Adnan"
   ]
  },
  {
   "cell_type": "code",
   "execution_count": null,
   "metadata": {},
   "outputs": [],
   "source": []
  }
 ],
 "metadata": {
  "kernelspec": {
   "display_name": "Python",
   "language": "python",
   "name": "conda-env-python-py"
  },
  "language_info": {
   "codemirror_mode": {
    "name": "ipython",
    "version": 3
   },
   "file_extension": ".py",
   "mimetype": "text/x-python",
   "name": "python",
   "nbconvert_exporter": "python",
   "pygments_lexer": "ipython3",
   "version": "3.7.12"
  }
 },
 "nbformat": 4,
 "nbformat_minor": 4
}
